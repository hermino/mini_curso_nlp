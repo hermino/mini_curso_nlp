{
 "cells": [
  {
   "cell_type": "markdown",
   "metadata": {},
   "source": [
    "<h1 style='font-family:ubuntu; color:#1C1C1C; font-size:37px'>Primeiros Passos</h1>"
   ]
  },
  {
   "cell_type": "markdown",
   "metadata": {},
   "source": [
    "<div style='padding:20px; border: 1px solid #E0FFFF; border-radius: 5px; background: #E0FFFF'>\n",
    "<ul style='font-family:Ubuntu Mono; color:#1C1C1C; font-size:18px'>\n",
    "    <li>Abrir o terminal do linux</li>\n",
    "    <li>Digitar: <strong> source activate  </strong></li>\n",
    "    <li>Digitar: <strong> pip install textblob  </strong></li>\n",
    "    <li>Digitar: <strong> pip install wordcloud  </strong></li>\n",
    "    <li>Digitar: <strong> git clone https://github.com/hermino/mini_curso_nlp.git </strong></li>\n",
    "    <li>Digitar: <strong> cd /mini_curso_nlp </strong></li>\n",
    "    <li>Digitar: <strong> jupyter notebook  </strong></li>\n",
    "</ul>\n",
    "</div>"
   ]
  },
  {
   "cell_type": "markdown",
   "metadata": {},
   "source": [
    "<div style='padding:20px; border: 1px solid #E0FFFF; border-radius: 5px; background: #E0FFFF'>\n",
    "    <p style='font-family:Ubuntu Mono; color:#1C1C1C; font-size:18px'>\n",
    "    <strong> O que é jupyter notebook? </strong>\n",
    "    </p>\n",
    "<div>"
   ]
  },
  {
   "cell_type": "markdown",
   "metadata": {},
   "source": [
    "<h1 style='font-family:ubuntu; color:#1C1C1C; font-size:37px'>Introdução a Processamento de Linguagem Natural</h1>"
   ]
  },
  {
   "cell_type": "markdown",
   "metadata": {},
   "source": [
    "<img src=\"imgs/head.png\"/>"
   ]
  },
  {
   "cell_type": "markdown",
   "metadata": {},
   "source": [
    "<h1 style='font-family:ubuntu; color:#1C1C1C; font-size:20px'>O que é Processamento de Linguagem Natual?</h1>"
   ]
  },
  {
   "cell_type": "markdown",
   "metadata": {},
   "source": [
    "<div style='padding:20px; border: 1px solid #E0FFFF; border-radius: 5px; background: #E0FFFF'>\n",
    "    <p style='font-family:Ubuntu Mono; color:#1C1C1C; font-size:18px'>\n",
    "    O Processamento de Linguagem Natural (PLN) é a subárea da Inteligência Artificial (IA) que estuda a capacidade e as limitações de uma máquina em entender a linguagem dos seres humanos. \n",
    "    </p>\n",
    "<div>"
   ]
  },
  {
   "cell_type": "markdown",
   "metadata": {},
   "source": [
    "<h1 style='font-family:ubuntu; color:#1C1C1C; font-size:20px'>Quais seus objetivos?</h1>"
   ]
  },
  {
   "cell_type": "markdown",
   "metadata": {},
   "source": [
    "<div style='padding:20px; border: 1px solid #E0FFFF; border-radius: 5px; background: #E0FFFF'>\n",
    "    <p style='font-family:Ubuntu Mono; color:#1C1C1C; font-size:18px'>\n",
    "    O objetivo do PLN é fornecer aos computadores a capacidade de entender e compor textos. \n",
    "    </p>\n",
    "<div>"
   ]
  },
  {
   "cell_type": "markdown",
   "metadata": {},
   "source": [
    "<h1 style='font-family:ubuntu; color:#1C1C1C; font-size:20px'>Pode ser usada para?</h1>"
   ]
  },
  {
   "cell_type": "markdown",
   "metadata": {},
   "source": [
    "<div style='padding:20px; border: 1px solid #E0FFFF; border-radius: 5px; background: #E0FFFF'>\n",
    "<ul style='font-family:Ubuntu Mono; color:#1C1C1C; font-size:18px'>\n",
    "    <li>Reconhecer o contexto</li>\n",
    "    <li>Fazer análises sintáticas, semânticas, léxicas e morfológicas</li>\n",
    "    <li>Criar resumos</li>\n",
    "    <li>Extrair informação</li>\n",
    "    <li>Interpretar os sentidos</li>\n",
    "    <li><strong>Analisar sentimentos</strong></li>\n",
    "    <li>Aprender conceitos</li>\n",
    "</ul>\n",
    "</div>"
   ]
  },
  {
   "cell_type": "markdown",
   "metadata": {},
   "source": [
    "<h1 style='font-family:ubuntu; color:#1C1C1C; font-size:37px'>Análise de sentimentos em textos</h1> "
   ]
  },
  {
   "cell_type": "markdown",
   "metadata": {},
   "source": [
    "<div style='padding:20px; border: 1px solid #E0FFFF; border-radius: 5px; background: #E0FFFF'>\n",
    "    <ol style='font-family:Ubuntu Mono; color:#1C1C1C; font-size:18px'>\n",
    "        <li>Este minicurso terá como base os comentário da Amazon, Yelp (estabelecimentos comerciais) e IMDb.</li>\n",
    "        <li>Cada dataset contém registros, sendo 1 para reviews Positivos e 0 para Negativos.</li>\n",
    "    </ol>\n",
    "<div>"
   ]
  },
  {
   "cell_type": "markdown",
   "metadata": {},
   "source": [
    "<h1 style='font-family:ubuntu; color:#1C1C1C; font-size:25px'>Explorando os dados</h1> "
   ]
  },
  {
   "cell_type": "markdown",
   "metadata": {},
   "source": [
    "<div style='padding:20px; border: 1px solid #E0FFFF; border-radius: 5px; background: #E0FFFF'>\n",
    "    <p style='font-family:Ubuntu Mono; color:#1C1C1C; font-size:18px'>\n",
    "    O primeiro passo antes qualquer análise é primeiramente verificar quais as caracteristicas dos seus dados. O intuito é encontrar dados que podem ser importantes para a análise. \n",
    "    </p>\n",
    "<div>"
   ]
  },
  {
   "cell_type": "markdown",
   "metadata": {},
   "source": [
    "<h1 style='font-family:ubuntu; color:#1C1C1C; font-size:25px'>Verificando a quantidades de amostras com valores nulos</h1> "
   ]
  },
  {
   "cell_type": "markdown",
   "metadata": {},
   "source": [
    "<div style='padding:20px; border: 1px solid #E0FFFF; border-radius: 5px; background: #E0FFFF'>\n",
    "    <p style='font-family:Ubuntu Mono; color:#1C1C1C; font-size:18px'>\n",
    "    Mesmo verificando os dados nulos com a função <strong>isnull()</strong>, em alguns casos os datasets de textos apresentam campos em branco. \n",
    "    </p>\n",
    "<div>\n"
   ]
  },
  {
   "cell_type": "markdown",
   "metadata": {},
   "source": [
    "<h1 style='font-family:ubuntu; color:#1C1C1C; font-size:25px'>Vamos plotar um WordCloud com os reviews</h1> "
   ]
  },
  {
   "cell_type": "markdown",
   "metadata": {},
   "source": [
    "<h1 style='font-family:ubuntu; color:#1C1C1C; font-size:25px'>Antes de iniciarmos uma análise mais profunda e técnica, podemos procurar padrões “suspeitos” em nosso dataset</h1>"
   ]
  },
  {
   "cell_type": "markdown",
   "metadata": {},
   "source": [
    "<div style='padding:20px; border: 1px solid #E0FFFF; border-radius: 5px; background: #E0FFFF'>\n",
    "<ul style='font-family:Ubuntu Mono; color:#1C1C1C; font-size:18px'>\n",
    "    <li>Será que existe diferença de tamanho (caracteres) do comentário entre os datasets?</li>\n",
    "    <li>Podemos verificar alguma correlação tamanho do review x sentimento?</li>\n",
    "    <li>A forma de escrita do comentário (exemplos: educado, rude, gírias, etc…) tem influência no sentimento <strong>positivo</strong> ou <strong>negativo</strong>?</li>\n",
    "</ul>\n",
    "</div>\n",
    "<div style='padding:20px; border: 1px solid #E0FFFF; border-radius: 5px; background: #E0FFFF'>\n",
    "    <p style='font-family:Ubuntu Mono; color:#1C1C1C; font-size:18px'>\n",
    "   Vamos descobrir através da vizualização dos dados \n",
    "    </p>\n",
    "<div>\n"
   ]
  },
  {
   "cell_type": "markdown",
   "metadata": {},
   "source": [
    "<div style='padding:20px; border: 1px solid #E0FFFF; border-radius: 5px; background: #E0FFFF'>\n",
    "    <p style='font-family:Ubuntu Mono; color:#1C1C1C; font-size:18px'>\n",
    "    Verificando rapidamente o histograma acima, não parece haver distinção entre os Datasets, apenas o Imdb apresenta alguns comentários mais longos que os demais. Mas será que isso influencia no sentimento do comentário: Positivo ou Negativo?\n",
    "    </p>\n",
    "</div>"
   ]
  },
  {
   "cell_type": "markdown",
   "metadata": {},
   "source": [
    "<div style='padding:20px; border: 1px solid #E0FFFF; border-radius: 5px; background: #E0FFFF'>\n",
    "    <p style='font-family:Ubuntu Mono; color:#1C1C1C; font-size:18px'>\n",
    "    Vamos verificar...\n",
    "    </p>\n",
    "</div>"
   ]
  },
  {
   "cell_type": "markdown",
   "metadata": {},
   "source": [
    "<div style='padding:20px; border: 1px solid #E0FFFF; border-radius: 5px; background: #E0FFFF'>\n",
    "    <p style='font-family:Ubuntu Mono; color:#1C1C1C; font-size:18px'>\n",
    "    Conforme mostra nosso swarmplot, não há relação entre o tamanho do comentário com a probabilidade de ser Positivo ou Negativo.\n",
    "    </p>\n",
    "</div>"
   ]
  },
  {
   "cell_type": "markdown",
   "metadata": {},
   "source": [
    "<h1 style='font-family:ubuntu; color:#1C1C1C; font-size:25px'>Vamos começar efetivamente a análise de sentimento com dataset da Amazon!</h1>"
   ]
  },
  {
   "cell_type": "markdown",
   "metadata": {},
   "source": [
    "<img src=\"./imgs/amazon.png\"/>"
   ]
  },
  {
   "cell_type": "markdown",
   "metadata": {},
   "source": [
    "<div style='padding:20px; border: 1px solid #E0FFFF; border-radius: 5px; background: #E0FFFF'>\n",
    "<ul style='font-family:Ubuntu Mono; color:#1C1C1C; font-size:18px'>\n",
    "    <li>A base de dados será dividida em 80/20, sendo respectivamente: Treino e Teste</li>\n",
    "    <li>Utilizado Stemming — Refere-se a um processo heurístico não muito refinado que corta as extremidades das palavras na esperança de atingir esse objetivo corretamente na maior parte do tempo, e geralmente inclui a remoção de afixos derivados</li>\n",
    "</ul>\n",
    "</div>"
   ]
  },
  {
   "cell_type": "markdown",
   "metadata": {},
   "source": [
    "<h1 style='font-family:ubuntu; color:#1C1C1C; font-size:25px'>Divisão da base de dados</h1>"
   ]
  },
  {
   "cell_type": "markdown",
   "metadata": {},
   "source": [
    "<h1 style='font-family:ubuntu; color:#1C1C1C; font-size:25px'>Aplicando Stemmer</h1>"
   ]
  },
  {
   "cell_type": "markdown",
   "metadata": {},
   "source": [
    "<h1 style='font-family:ubuntu; color:#1C1C1C; font-size:25px'>Listando palavras mais populares</h1>"
   ]
  },
  {
   "cell_type": "markdown",
   "metadata": {},
   "source": [
    "<h1 style='font-family:ubuntu; color:#1C1C1C; font-size:25px'>Buscando palavras unicas</h1>"
   ]
  },
  {
   "cell_type": "markdown",
   "metadata": {},
   "source": [
    "<h1 style='font-family:ubuntu; color:#1C1C1C; font-size:25px'>Como melhorar o modelo?</h1>"
   ]
  },
  {
   "cell_type": "markdown",
   "metadata": {},
   "source": [
    "<div style='padding:20px; border: 1px solid #E0FFFF; border-radius: 5px; background: #E0FFFF'>\n",
    "<ul style='font-family:Ubuntu Mono; color:#1C1C1C; font-size:18px'>\n",
    "    <li>Aumentar a base de dados para o treino e teste, com isso teríamos um modelo mais robusto</li>\n",
    "    <li>Testar outros algoritmos e hiperparâmetros</li>\n",
    "    <li>Incluir novas StopWords…</li>\n",
    "</ul>\n",
    "</div>"
   ]
  },
  {
   "cell_type": "markdown",
   "metadata": {},
   "source": [
    "<h1 style='font-family:ubuntu; color:#1C1C1C; font-size:25px'>Verificando os erros do modelo</h1>"
   ]
  },
  {
   "cell_type": "markdown",
   "metadata": {},
   "source": [
    "<h1 style='font-family:ubuntu; color:#1C1C1C; font-size:25px'>Usando o NLTK para análisar o Sentimento</h1>"
   ]
  },
  {
   "cell_type": "markdown",
   "metadata": {},
   "source": [
    "<h1 style='font-family:ubuntu; color:#1C1C1C; font-size:25px'>Probabilidade de cada classe</h1>"
   ]
  },
  {
   "cell_type": "markdown",
   "metadata": {},
   "source": [
    "<h1 style='font-family:ubuntu; color:#1C1C1C; font-size:25px'>Agora vamos realizar a análise de sentimentos da Yelp</h1>"
   ]
  },
  {
   "cell_type": "markdown",
   "metadata": {},
   "source": [
    "<img style=\"width: 500px]; heigth: 500px\" src=\"./imgs/yelp.png\"/>"
   ]
  },
  {
   "cell_type": "markdown",
   "metadata": {},
   "source": [
    "<h1 style='font-family:ubuntu; color:#1C1C1C; font-size:25px'>Utilizando TF-IDF</h1>"
   ]
  },
  {
   "cell_type": "markdown",
   "metadata": {},
   "source": [
    "<div style='padding:20px; border: 1px solid #E0FFFF; border-radius: 5px; background: #E0FFFF'>\n",
    "    <p style='font-family:Ubuntu Mono; color:#1C1C1C; font-size:18px'>\n",
    "No caso do TFIDF, o único pré-processamento de texto é remover a pontuação e diminuir as letras maiúsculas e minúsculas. Nós não temos que nos preocupar com as StopWords. O TFIDF é a junção do TF e IDF.\n",
    "    </p>\n",
    "</div>"
   ]
  },
  {
   "cell_type": "markdown",
   "metadata": {},
   "source": [
    "<div style='padding:20px; border: 1px solid #E0FFFF; border-radius: 5px; background: #E0FFFF'>\n",
    "<ul style='font-family:Ubuntu Mono; color:#1C1C1C; font-size:18px'>\n",
    "    <li>O TFIDF é usado com sucesso pelos mecanismos de pesquisa, como o Google, como um fator de classificação para o conteúdo.</li>\n",
    "    <li>A ideia é pesar os termos freqüentes e aumentar os mais raros</li>\n",
    "</ul>\n",
    "</div>"
   ]
  },
  {
   "cell_type": "markdown",
   "metadata": {},
   "source": [
    "<div style='padding:20px; border: 1px solid #FFDAB9; border-radius: 5px; background: #FFDAB9'>\n",
    "    <p style='font-family:Ubuntu Mono; color:#1C1C1C; font-size:18px'>\n",
    "Nossa acurácia para este modelo foi de 77,5% utilizando SGDClassifier.\n",
    "    </p>\n",
    "</div>    "
   ]
  },
  {
   "cell_type": "markdown",
   "metadata": {},
   "source": [
    "<h1 style='font-family:ubuntu; color:#1C1C1C; font-size:25px'>Matriz de Confusão</h1>"
   ]
  },
  {
   "cell_type": "markdown",
   "metadata": {},
   "source": [
    "<h1 style='font-family:ubuntu; color:#1C1C1C; font-size:25px'>Agora vamos analisar o Imdb</h1>"
   ]
  },
  {
   "cell_type": "markdown",
   "metadata": {},
   "source": [
    "<div style='padding:20px; border: 1px solid #FFFACD; border-radius: 5px; background: #FFFACD'>\n",
    "    <p style='font-family:Ubuntu Mono; color:#1C1C1C; font-size:18px'>\n",
    "        <strong>Obs:</strong> Nós poderíamos realizar uma única análise de sentimentos com o dataset consolidade que foi importado (concatenação) de todos os conjuntos, porém, o notebook ficará mais completo e didático se tratarmos de forma separada...<br><br> \n",
    "        Mãos a obra!\n",
    "    </p>\n",
    "</div> "
   ]
  },
  {
   "cell_type": "markdown",
   "metadata": {},
   "source": [
    "<img style=\"width=500px; height: 500px\" src=\"./imgs/imdb.png\"/>"
   ]
  },
  {
   "cell_type": "markdown",
   "metadata": {},
   "source": [
    "<h1 style='font-family:ubuntu; color:#1C1C1C; font-size:25px'>Separando os Dados</h1>"
   ]
  },
  {
   "cell_type": "markdown",
   "metadata": {},
   "source": [
    "<h1 style='font-family:ubuntu; color:#1C1C1C; font-size:25px'>Removendo StopWords</h1>"
   ]
  },
  {
   "cell_type": "markdown",
   "metadata": {},
   "source": [
    "<h1 style='font-family:ubuntu; color:#1C1C1C; font-size:25px'>Análise Morfológica\n",
    "</h1>"
   ]
  },
  {
   "cell_type": "markdown",
   "metadata": {},
   "source": [
    "<div style='padding:20px; border: 1px solid #E0FFFF; border-radius: 5px; background: #E0FFFF'>\n",
    "    <p style='font-family:Ubuntu Mono; color:#1C1C1C; font-size:18px'>\n",
    "Site que explica cada sigla: https://www.clips.uantwerpen.be/pages/pattern-en\n",
    "    </p>\n",
    "</div>"
   ]
  },
  {
   "cell_type": "markdown",
   "metadata": {},
   "source": [
    "<h1 style='font-family:ubuntu; color:#1C1C1C; font-size:25px'>Classificação e Ajuste de Hiperparâmetros\n",
    "</h1>"
   ]
  },
  {
   "cell_type": "markdown",
   "metadata": {},
   "source": [
    "<div style='padding:20px; border: 1px solid #FFFACD; border-radius: 5px; background: #FFFACD'>\n",
    "    <p style='font-family:Ubuntu Mono; color:#1C1C1C; font-size:18px'>\n",
    "        Como o melhor C encontrado pelo GridSearch foi o C = 1, não precisamos deixar explícito pois o default é este valor.\n",
    "    </p>\n",
    "</div> "
   ]
  },
  {
   "cell_type": "markdown",
   "metadata": {},
   "source": [
    "<h1 style='font-family:ubuntu; color:#1C1C1C; font-size:25px'>Terminamos nossa análise de sentimentos para os 3 Datasets</h1>"
   ]
  },
  {
   "cell_type": "markdown",
   "metadata": {},
   "source": [
    "<div style='padding:20px; border: 1px solid #E0FFFF; border-radius: 5px; background: #E0FFFF'>\n",
    "    <p style='font-family:Ubuntu Mono; color:#1C1C1C; font-size:18px'>\n",
    "Para fechar, vamos realizar a análise de sentimentos com um único Dataset, \n",
    "    sem diferenciar a fonte dos dados.\n",
    "    </p>\n",
    "</div>"
   ]
  },
  {
   "cell_type": "code",
   "execution_count": null,
   "metadata": {},
   "outputs": [],
   "source": []
  }
 ],
 "metadata": {
  "kernelspec": {
   "display_name": "Python 3",
   "language": "python",
   "name": "python3"
  },
  "language_info": {
   "codemirror_mode": {
    "name": "ipython",
    "version": 3
   },
   "file_extension": ".py",
   "mimetype": "text/x-python",
   "name": "python",
   "nbconvert_exporter": "python",
   "pygments_lexer": "ipython3",
   "version": "3.7.3"
  }
 },
 "nbformat": 4,
 "nbformat_minor": 2
}
