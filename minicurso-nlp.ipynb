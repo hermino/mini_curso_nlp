{
 "cells": [
  {
   "cell_type": "markdown",
   "metadata": {},
   "source": [
    "<h1 style='font-family:ubuntu; color:#1C1C1C; font-size:37px'>Primeiros Passos</h1>"
   ]
  },
  {
   "cell_type": "markdown",
   "metadata": {},
   "source": [
    "<div style='padding:20px; border: 1px solid #E0FFFF; border-radius: 5px; background: #E0FFFF'>\n",
    "<ul style='font-family:Ubuntu Mono; color:#1C1C1C; font-size:18px'>\n",
    "    <li>Abrir o terminal do linux</li>\n",
    "    <li>Digitar: <strong> source activate  </strong></li>\n",
    "    <li>Digitar: <strong> pip install textblob  </strong></li>\n",
    "    <li>Digitar: <strong> pip install wordcloud  </strong></li>\n",
    "    <li>Digitar: <strong> git clone https://github.com/hermino/mini_curso_nlp.git </strong></li>\n",
    "    <li>Digitar: <strong> cd /mini_curso_nlp </strong></li>\n",
    "    <li>Digitar: <strong> jupyter notebook  </strong></li>\n",
    "</ul>\n",
    "</div>"
   ]
  },
  {
   "cell_type": "markdown",
   "metadata": {},
   "source": [
    "<div style='padding:20px; border: 1px solid #E0FFFF; border-radius: 5px; background: #E0FFFF'>\n",
    "    <p style='font-family:Ubuntu Mono; color:#1C1C1C; font-size:18px'>\n",
    "    <strong> O que é jupyter notebook? </strong>\n",
    "    </p>\n",
    "<div>"
   ]
  },
  {
   "cell_type": "markdown",
   "metadata": {},
   "source": [
    "<h1 style='font-family:ubuntu; color:#1C1C1C; font-size:37px'>Introdução a Processamento de Linguagem Natural</h1>"
   ]
  },
  {
   "cell_type": "markdown",
   "metadata": {},
   "source": [
    "<img src=\"imgs/head.png\"/>"
   ]
  },
  {
   "cell_type": "markdown",
   "metadata": {},
   "source": [
    "<h1 style='font-family:ubuntu; color:#1C1C1C; font-size:20px'>O que é Processamento de Linguagem Natual?</h1>"
   ]
  },
  {
   "cell_type": "markdown",
   "metadata": {},
   "source": [
    "<div style='padding:20px; border: 1px solid #E0FFFF; border-radius: 5px; background: #E0FFFF'>\n",
    "    <p style='font-family:Ubuntu Mono; color:#1C1C1C; font-size:18px'>\n",
    "    O Processamento de Linguagem Natural (PLN) é a subárea da Inteligência Artificial (IA) que estuda a capacidade e as limitações de uma máquina em entender a linguagem dos seres humanos. \n",
    "    </p>\n",
    "<div>"
   ]
  },
  {
   "cell_type": "markdown",
   "metadata": {},
   "source": [
    "<h1 style='font-family:ubuntu; color:#1C1C1C; font-size:20px'>Quais seus objetivos?</h1>"
   ]
  },
  {
   "cell_type": "markdown",
   "metadata": {},
   "source": [
    "<div style='padding:20px; border: 1px solid #E0FFFF; border-radius: 5px; background: #E0FFFF'>\n",
    "    <p style='font-family:Ubuntu Mono; color:#1C1C1C; font-size:18px'>\n",
    "    O objetivo do PLN é fornecer aos computadores a capacidade de entender e compor textos. \n",
    "    </p>\n",
    "<div>"
   ]
  },
  {
   "cell_type": "markdown",
   "metadata": {},
   "source": [
    "<h1 style='font-family:ubuntu; color:#1C1C1C; font-size:20px'>Pode ser usada para?</h1>"
   ]
  },
  {
   "cell_type": "markdown",
   "metadata": {},
   "source": [
    "<div style='padding:20px; border: 1px solid #E0FFFF; border-radius: 5px; background: #E0FFFF'>\n",
    "<ul style='font-family:Ubuntu Mono; color:#1C1C1C; font-size:18px'>\n",
    "    <li>Reconhecer o contexto</li>\n",
    "    <li>Fazer análises sintáticas, semânticas, léxicas e morfológicas</li>\n",
    "    <li>Criar resumos</li>\n",
    "    <li>Extrair informação</li>\n",
    "    <li>Interpretar os sentidos</li>\n",
    "    <li><strong>Analisar sentimentos</strong></li>\n",
    "    <li>Aprender conceitos</li>\n",
    "</ul>\n",
    "</div>"
   ]
  },
  {
   "cell_type": "markdown",
   "metadata": {},
   "source": [
    "<h1 style='font-family:ubuntu; color:#1C1C1C; font-size:37px'>Análise de sentimentos em textos</h1> "
   ]
  },
  {
   "cell_type": "markdown",
   "metadata": {},
   "source": [
    "<div style='padding:20px; border: 1px solid #E0FFFF; border-radius: 5px; background: #E0FFFF'>\n",
    "    <ol style='font-family:Ubuntu Mono; color:#1C1C1C; font-size:18px'>\n",
    "        <li>Este minicurso terá como base os comentário da Amazon, Yelp (estabelecimentos comerciais) e IMDb.</li>\n",
    "        <li>Cada dataset contém registros, sendo 1 para reviews Positivos e 0 para Negativos.</li>\n",
    "    </ol>\n",
    "<div>"
   ]
  },
  {
   "cell_type": "code",
   "execution_count": null,
   "metadata": {},
   "outputs": [],
   "source": [
    "# Para analise de textos\n",
    "import nltk\n",
    "from textblob import TextBlob\n",
    "\n",
    "# Manipulação de dados\n",
    "import numpy as np\n",
    "import pandas as pd\n",
    "\n",
    "# Criação de Gráficos\n",
    "import seaborn as sns\n",
    "import matplotlib.pyplot as plt\n",
    "\n",
    "# Apredizado de Máquina e PLN\n",
    "from sklearn.svm import SVC\n",
    "from sklearn.linear_model import SGDClassifier\n",
    "from sklearn.neural_network import MLPClassifier\n",
    "from sklearn.feature_extraction.text import TfidfVectorizer\n",
    "from sklearn.model_selection import cross_val_score, GridSearchCV\n",
    "from sklearn.metrics import confusion_matrix, accuracy_score, classification_report\n",
    "\n",
    "# Detalhes de visualização\n",
    "import warnings\n",
    "warnings.filterwarnings('ignore')\n",
    "%matplotlib inline"
   ]
  },
  {
   "cell_type": "markdown",
   "metadata": {},
   "source": [
    "<h1 style='font-family:ubuntu; color:#1C1C1C; font-size:25px'>Explorando os dados</h1> "
   ]
  },
  {
   "cell_type": "markdown",
   "metadata": {},
   "source": [
    "<div style='padding:20px; border: 1px solid #E0FFFF; border-radius: 5px; background: #E0FFFF'>\n",
    "    <p style='font-family:Ubuntu Mono; color:#1C1C1C; font-size:18px'>\n",
    "    O primeiro passo antes qualquer análise é primeiramente verificar quais as caracteristicas dos seus dados. O intuito é encontrar dados que podem ser importantes para a análise. \n",
    "    </p>\n",
    "<div>"
   ]
  },
  {
   "cell_type": "code",
   "execution_count": null,
   "metadata": {},
   "outputs": [],
   "source": [
    "arquivos_dict = {'amazon': './bases/amazon_cells_labelled.txt',\n",
    "                 'yelp': './bases/yelp_labelled.txt',\n",
    "                 'imdb': './bases/imdb_labelled.txt'}\n",
    "\n",
    "df_list = []\n",
    "\n",
    "for fonte, arquivos in arquivos_dict.items():\n",
    "    df = pd.read_csv(arquivos, names=['sentence', 'label'], sep='\\t')\n",
    "    df['fonte'] = fonte\n",
    "    df_list.append(df)\n",
    "    \n",
    "df = pd.concat(df_list)\n",
    "print('Formato do arquivo {}'.format(df.shape))"
   ]
  },
  {
   "cell_type": "code",
   "execution_count": null,
   "metadata": {
    "scrolled": true
   },
   "outputs": [],
   "source": [
    "df.sample(10)"
   ]
  },
  {
   "cell_type": "markdown",
   "metadata": {},
   "source": [
    "<h1 style='font-family:ubuntu; color:#1C1C1C; font-size:25px'>Verificando a quantidades de amostras com valores nulos</h1> "
   ]
  },
  {
   "cell_type": "code",
   "execution_count": null,
   "metadata": {},
   "outputs": [],
   "source": [
    "df.isnull().sum()"
   ]
  },
  {
   "cell_type": "code",
   "execution_count": null,
   "metadata": {},
   "outputs": [],
   "source": [
    "df.dropna(inplace=True)\n",
    "df.sample(10)"
   ]
  },
  {
   "cell_type": "markdown",
   "metadata": {},
   "source": [
    "<div style='padding:20px; border: 1px solid #E0FFFF; border-radius: 5px; background: #E0FFFF'>\n",
    "    <p style='font-family:Ubuntu Mono; color:#1C1C1C; font-size:18px'>\n",
    "    Mesmo verificando os dados nulos com a função <strong>isnull()</strong>, em alguns casos os datasets de textos apresentam campos em branco. \n",
    "    </p>\n",
    "<div>\n"
   ]
  },
  {
   "cell_type": "code",
   "execution_count": null,
   "metadata": {},
   "outputs": [],
   "source": [
    "brancos = []\n",
    "\n",
    "for indice, senteca, label, fonte in df.itertuples():\n",
    "    if(senteca.isspace()): # retorna um TRUE se houver apenas um caractere em branco\n",
    "        brancos.append(i)\n",
    "        \n",
    "brancos"
   ]
  },
  {
   "cell_type": "markdown",
   "metadata": {},
   "source": [
    "<h1 style='font-family:ubuntu; color:#1C1C1C; font-size:25px'>Vamos plotar um WordCloud com os reviews</h1> "
   ]
  },
  {
   "cell_type": "code",
   "execution_count": null,
   "metadata": {},
   "outputs": [],
   "source": [
    "from nltk.corpus import stopwords\n",
    "from nltk.tokenize import word_tokenize\n",
    "\n",
    "stopwordsNltk = stopwords.words('english')\n",
    "\n",
    "from wordcloud import WordCloud\n",
    "\n",
    "words = []\n",
    "\n",
    "for senteca in df.sentence:\n",
    "    for palavra in senteca.lower().split():\n",
    "        if(palavra not in stopwordsNltk):\n",
    "            words.append(palavra)\n",
    "            \n",
    "words = str(words)\n",
    "\n",
    "wordcloud = WordCloud(width=1000, height=1000, margin=0).generate(words)\n",
    "plt.figure(figsize=(20,11))\n",
    "plt.imshow(wordcloud, interpolation='bilinear')\n",
    "plt.axis('off')\n",
    "plt.margins(x=0, y=0)"
   ]
  },
  {
   "cell_type": "markdown",
   "metadata": {},
   "source": [
    "<h1 style='font-family:ubuntu; color:#1C1C1C; font-size:25px'>Antes de iniciarmos uma análise mais profunda e técnica, podemos procurar padrões “suspeitos” em nosso dataset</h1>"
   ]
  },
  {
   "cell_type": "markdown",
   "metadata": {},
   "source": [
    "<div style='padding:20px; border: 1px solid #E0FFFF; border-radius: 5px; background: #E0FFFF'>\n",
    "<ul style='font-family:Ubuntu Mono; color:#1C1C1C; font-size:18px'>\n",
    "    <li>Será que existe diferença de tamanho (caracteres) do comentário entre os datasets?</li>\n",
    "    <li>Podemos verificar alguma correlação tamanho do review x sentimento?</li>\n",
    "    <li>A forma de escrita do comentário (exemplos: educado, rude, gírias, etc…) tem influência no sentimento <strong>positivo</strong> ou <strong>negativo</strong>?</li>\n",
    "</ul>\n",
    "</div>\n",
    "<div style='padding:20px; border: 1px solid #E0FFFF; border-radius: 5px; background: #E0FFFF'>\n",
    "    <p style='font-family:Ubuntu Mono; color:#1C1C1C; font-size:18px'>\n",
    "   Vamos descobrir através da vizualização dos dados \n",
    "    </p>\n",
    "<div>\n"
   ]
  },
  {
   "cell_type": "code",
   "execution_count": null,
   "metadata": {},
   "outputs": [],
   "source": [
    "df['tamanho_texto'] = df['sentence'].apply(len)\n",
    "df.head()"
   ]
  },
  {
   "cell_type": "code",
   "execution_count": null,
   "metadata": {},
   "outputs": [],
   "source": [
    "x1 = list(df[df['fonte'] == 'amazon']['tamanho_texto'])\n",
    "x2 = list(df[df['fonte'] == 'yelp']['tamanho_texto'])\n",
    "x3 = list(df[df['fonte'] == 'imdb']['tamanho_texto'])\n",
    "\n",
    "colors = ['#fb8072', '#80b1d3', '#fdb462']\n",
    "names = ['Amazon', 'Yelp', 'Imdb']\n",
    "\n",
    "plt.figure(figsize=(9,7))\n",
    "plt.hist([x1, x2, x3], bins = int(180/15), normed=False, color = colors, label=names)\n",
    "\n",
    "plt.xlabel('Quantidade de caracteres')\n",
    "plt.ylabel('Quantidade de comentários')\n",
    "plt.title('Histograma dos Reviews')\n",
    "plt.legend();"
   ]
  },
  {
   "cell_type": "markdown",
   "metadata": {},
   "source": [
    "<div style='padding:20px; border: 1px solid #E0FFFF; border-radius: 5px; background: #E0FFFF'>\n",
    "    <p style='font-family:Ubuntu Mono; color:#1C1C1C; font-size:18px'>\n",
    "    Verificando rapidamente o histograma acima, não parece haver distinção entre os Datasets, apenas o Imdb apresenta alguns comentários mais longos que os demais. Mas será que isso influencia no sentimento do comentário: Positivo ou Negativo?\n",
    "    </p>\n",
    "</div>"
   ]
  },
  {
   "cell_type": "markdown",
   "metadata": {},
   "source": [
    "<div style='padding:20px; border: 1px solid #E0FFFF; border-radius: 5px; background: #E0FFFF'>\n",
    "    <p style='font-family:Ubuntu Mono; color:#1C1C1C; font-size:18px'>\n",
    "    Vamos verificar...\n",
    "    </p>\n",
    "</div>"
   ]
  },
  {
   "cell_type": "code",
   "execution_count": null,
   "metadata": {},
   "outputs": [],
   "source": [
    "plt.figure(figsize=(11, 9))\n",
    "sns.swarmplot(x='label', y='tamanho_texto', data=df, hue='fonte', alpha=0.7, palette='coolwarm')\n",
    "plt.xlabel('Sentimento do comentário');"
   ]
  },
  {
   "cell_type": "markdown",
   "metadata": {},
   "source": [
    "<div style='padding:20px; border: 1px solid #E0FFFF; border-radius: 5px; background: #E0FFFF'>\n",
    "    <p style='font-family:Ubuntu Mono; color:#1C1C1C; font-size:18px'>\n",
    "    Conforme mostra nosso swarmplot, não há relação entre o tamanho do comentário com a probabilidade de ser Positivo ou Negativo.\n",
    "    </p>\n",
    "</div>"
   ]
  },
  {
   "cell_type": "markdown",
   "metadata": {},
   "source": [
    "<h1 style='font-family:ubuntu; color:#1C1C1C; font-size:25px'>Vamos começar efetivamente a análise de sentimento com dataset da Amazon!</h1>"
   ]
  },
  {
   "cell_type": "markdown",
   "metadata": {},
   "source": [
    "<img src=\"./imgs/amazon.png\"/>"
   ]
  },
  {
   "cell_type": "markdown",
   "metadata": {},
   "source": [
    "<div style='padding:20px; border: 1px solid #E0FFFF; border-radius: 5px; background: #E0FFFF'>\n",
    "<ul style='font-family:Ubuntu Mono; color:#1C1C1C; font-size:18px'>\n",
    "    <li>A base de dados será dividida em 80/20, sendo respectivamente: Treino e Teste</li>\n",
    "    <li>Utilizado Stemming — Refere-se a um processo heurístico não muito refinado que corta as extremidades das palavras na esperança de atingir esse objetivo corretamente na maior parte do tempo, e geralmente inclui a remoção de afixos derivados</li>\n",
    "</ul>\n",
    "</div>"
   ]
  },
  {
   "cell_type": "code",
   "execution_count": null,
   "metadata": {},
   "outputs": [],
   "source": [
    "amazon = df[df['fonte'] == 'amazon']\n",
    "amazon = amazon[['sentence', 'label']]\n",
    "print('Formato do Dataframe da Amazon {}'.format(amazon.shape))\n",
    "amazon.head()"
   ]
  },
  {
   "cell_type": "code",
   "execution_count": null,
   "metadata": {},
   "outputs": [],
   "source": [
    "amazon['sentence'] = amazon['sentence'].str.replace('[^\\w\\s]','')\n",
    "amazon.head()"
   ]
  },
  {
   "cell_type": "markdown",
   "metadata": {},
   "source": [
    "<h1 style='font-family:ubuntu; color:#1C1C1C; font-size:25px'>Divisão da base de dados</h1>"
   ]
  },
  {
   "cell_type": "code",
   "execution_count": null,
   "metadata": {},
   "outputs": [],
   "source": [
    "from sklearn.model_selection import train_test_split\n",
    "treino, teste = train_test_split(amazon, test_size=0.2)"
   ]
  },
  {
   "cell_type": "code",
   "execution_count": null,
   "metadata": {},
   "outputs": [],
   "source": [
    "print('Shape dos dados de Treino {}'.format(treino.shape))\n",
    "treino.label.value_counts(normalize=True)"
   ]
  },
  {
   "cell_type": "code",
   "execution_count": null,
   "metadata": {},
   "outputs": [],
   "source": [
    "print('Shape dos dados de Teste {}'.format(teste.shape))\n",
    "teste.label.value_counts(normalize=True)"
   ]
  },
  {
   "cell_type": "markdown",
   "metadata": {},
   "source": [
    "<h1 style='font-family:ubuntu; color:#1C1C1C; font-size:25px'>Aplicando Stemmer</h1>"
   ]
  },
  {
   "cell_type": "code",
   "execution_count": null,
   "metadata": {},
   "outputs": [],
   "source": [
    "treino = [tuple(x) for x in treino.values]"
   ]
  },
  {
   "cell_type": "code",
   "execution_count": null,
   "metadata": {},
   "outputs": [],
   "source": [
    "def aplica_stemmer(texto):\n",
    "    stemmer = nltk.stem.SnowballStemmer('english')\n",
    "    \n",
    "    frases_com_stemming = []\n",
    "    for (palavras, sentimento) in texto:\n",
    "        com_stemming = [str(stemmer.stem(p)) for p in palavras.lower().split() if p not in stopwordsNltk]\n",
    "        frases_com_stemming.append((com_stemming, sentimento))\n",
    "    return frases_com_stemming"
   ]
  },
  {
   "cell_type": "code",
   "execution_count": null,
   "metadata": {},
   "outputs": [],
   "source": [
    "frases_com_stem_treinamento = aplica_stemmer(treino)"
   ]
  },
  {
   "cell_type": "code",
   "execution_count": null,
   "metadata": {},
   "outputs": [],
   "source": [
    "pd.DataFrame(frases_com_stem_treinamento, columns=['frase', 'sentimento']).sample(10)"
   ]
  },
  {
   "cell_type": "code",
   "execution_count": null,
   "metadata": {},
   "outputs": [],
   "source": [
    "teste = [tuple(x) for x in teste.values]\n",
    "frases_com_stem_teste = aplica_stemmer(teste)"
   ]
  },
  {
   "cell_type": "code",
   "execution_count": null,
   "metadata": {},
   "outputs": [],
   "source": [
    "def busca_palavras(frases):\n",
    "    todas_palavras = []\n",
    "    for (palavras, sentimento) in frases:\n",
    "        todas_palavras.extend(palavras)\n",
    "    return todas_palavras"
   ]
  },
  {
   "cell_type": "code",
   "execution_count": null,
   "metadata": {},
   "outputs": [],
   "source": [
    "palavras_treinamento = busca_palavras(frases_com_stem_treinamento)\n",
    "palavras_teste = busca_palavras(frases_com_stem_teste)"
   ]
  },
  {
   "cell_type": "code",
   "execution_count": null,
   "metadata": {},
   "outputs": [],
   "source": [
    "print('Quantidade de palavras na base de treinamento {}'.format(pd.DataFrame(palavras_treinamento).count()))"
   ]
  },
  {
   "cell_type": "markdown",
   "metadata": {},
   "source": [
    "<h1 style='font-family:ubuntu; color:#1C1C1C; font-size:25px'>Listando palavras mais populares</h1>"
   ]
  },
  {
   "cell_type": "code",
   "execution_count": null,
   "metadata": {},
   "outputs": [],
   "source": [
    "def busca_frequencia(palavras):\n",
    "    palavras = nltk.FreqDist(palavras)\n",
    "    return palavras"
   ]
  },
  {
   "cell_type": "code",
   "execution_count": null,
   "metadata": {},
   "outputs": [],
   "source": [
    "frenquencia_treinamento = busca_frequencia(palavras_treinamento)\n",
    "frenquencia_treinamento.most_common(10)"
   ]
  },
  {
   "cell_type": "code",
   "execution_count": null,
   "metadata": {},
   "outputs": [],
   "source": [
    "frenquencia_teste = busca_frequencia(palavras_teste)\n",
    "frenquencia_teste.most_common(10)"
   ]
  },
  {
   "cell_type": "code",
   "execution_count": null,
   "metadata": {},
   "outputs": [],
   "source": [
    "plt.figure(figsize=(12,8))\n",
    "frenquencia_treinamento.plot(30, cumulative=False);"
   ]
  },
  {
   "cell_type": "markdown",
   "metadata": {},
   "source": [
    "<h1 style='font-family:ubuntu; color:#1C1C1C; font-size:25px'>Buscando palavras unicas</h1>"
   ]
  },
  {
   "cell_type": "code",
   "execution_count": null,
   "metadata": {},
   "outputs": [],
   "source": [
    "def busca_palavras_unicas(frequencia):\n",
    "    freq = frequencia.keys()\n",
    "    return freq\n",
    "\n",
    "palavras_unicas_treinamento = busca_palavras_unicas(frenquencia_treinamento)\n",
    "palavras_unicas_teste = busca_palavras_unicas(frenquencia_teste)"
   ]
  },
  {
   "cell_type": "code",
   "execution_count": null,
   "metadata": {},
   "outputs": [],
   "source": [
    "def extrator_palavras(documento):\n",
    "    doc = set(documento) #coleção não ordenada e não indexada\n",
    "    caracteristicas  = {}\n",
    "    for palavras in palavras_unicas_treinamento:\n",
    "        caracteristicas['%s' % palavras] = (palavras in doc)\n",
    "    return caracteristicas"
   ]
  },
  {
   "cell_type": "code",
   "execution_count": null,
   "metadata": {},
   "outputs": [],
   "source": [
    "def extrator_palavras_teste(documento):\n",
    "    doc = set(documento) #coleção não ordenada e não indexada\n",
    "    caracteristicas  = {}\n",
    "    for palavras in palavras_unicas_teste:\n",
    "        caracteristicas['%s' % palavras] = (palavras in doc)\n",
    "    return caracteristicas"
   ]
  },
  {
   "cell_type": "code",
   "execution_count": null,
   "metadata": {},
   "outputs": [],
   "source": [
    "base_completa_treinamento = nltk.classify.apply_features(extrator_palavras, frases_com_stem_treinamento)\n",
    "base_completa_teste = nltk.classify.apply_features(extrator_palavras_teste, frases_com_stem_teste)"
   ]
  },
  {
   "cell_type": "code",
   "execution_count": null,
   "metadata": {},
   "outputs": [],
   "source": [
    "base_completa_treinamento"
   ]
  },
  {
   "cell_type": "code",
   "execution_count": null,
   "metadata": {},
   "outputs": [],
   "source": [
    "classificador = nltk.NaiveBayesClassifier.train(base_completa_treinamento)\n",
    "print(classificador.labels())"
   ]
  },
  {
   "cell_type": "code",
   "execution_count": null,
   "metadata": {},
   "outputs": [],
   "source": [
    "print('Acurácia: {}%'.format(nltk.classify.accuracy(classificador, base_completa_teste)))"
   ]
  },
  {
   "cell_type": "markdown",
   "metadata": {},
   "source": [
    "<h1 style='font-family:ubuntu; color:#1C1C1C; font-size:25px'>Como melhorar o modelo?</h1>"
   ]
  },
  {
   "cell_type": "markdown",
   "metadata": {},
   "source": [
    "<div style='padding:20px; border: 1px solid #E0FFFF; border-radius: 5px; background: #E0FFFF'>\n",
    "<ul style='font-family:Ubuntu Mono; color:#1C1C1C; font-size:18px'>\n",
    "    <li>Aumentar a base de dados para o treino e teste, com isso teríamos um modelo mais robusto</li>\n",
    "    <li>Testar outros algoritmos e hiperparâmetros</li>\n",
    "    <li>Incluir novas StopWords…</li>\n",
    "</ul>\n",
    "</div>"
   ]
  },
  {
   "cell_type": "markdown",
   "metadata": {},
   "source": [
    "<h1 style='font-family:ubuntu; color:#1C1C1C; font-size:25px'>Verificando os erros do modelo</h1>"
   ]
  },
  {
   "cell_type": "code",
   "execution_count": null,
   "metadata": {},
   "outputs": [],
   "source": [
    "erros = []\n",
    "for (frase, classe) in base_completa_teste:\n",
    "    resultado = classificador.classify(frase)\n",
    "    if resultado != classe:\n",
    "        erros.append((classe, resultado, frase))"
   ]
  },
  {
   "cell_type": "code",
   "execution_count": null,
   "metadata": {},
   "outputs": [],
   "source": [
    "esperado = []\n",
    "previsto = []\n",
    "for (frase, classe) in base_completa_teste:\n",
    "    resultado = classificador.classify(frase)\n",
    "    previsto.append(resultado)\n",
    "    esperado.append(classe)\n",
    "\n",
    "    \n",
    "font = {'family': 'DejaVu Sans',\n",
    "        'weight': 'bold',\n",
    "        'size': 16}    \n",
    "\n",
    "plt.rc('font', **font)       \n",
    "cm = confusion_matrix(esperado, previsto)\n",
    "plt.figure(figsize=(12, 8))\n",
    "plt.clf()\n",
    "plt.imshow(cm, interpolation='nearest', cmap='Blues')\n",
    "className = ['Negativa','Positiva']\n",
    "plt.title('Matriz de Confusão Amazon')\n",
    "plt.ylabel('Classe Verdadeira')\n",
    "plt.xlabel('Classe Prevista')\n",
    "tick_marks = np.arange(len(className))\n",
    "plt.xticks(tick_marks, className, rotation=45)\n",
    "plt.yticks(tick_marks, className);\n",
    "s = [['TN','FP'], ['FN', 'TP']]\n",
    "\n",
    "for i in range(2):\n",
    "    for j in range(2):\n",
    "        plt.text(j, i, str(s[i][j] + \" = \" + str(cm[i][j])))\n",
    "plt.show();"
   ]
  },
  {
   "cell_type": "markdown",
   "metadata": {},
   "source": [
    "<h1 style='font-family:ubuntu; color:#1C1C1C; font-size:25px'>Usando o NLTK para análisar o Sentimento</h1>"
   ]
  },
  {
   "cell_type": "code",
   "execution_count": null,
   "metadata": {},
   "outputs": [],
   "source": [
    "from nltk.sentiment.vader import SentimentIntensityAnalyzer as SIA\n",
    "\n",
    "sia = SIA()\n",
    "results = []\n",
    "\n",
    "for line in amazon.sentence:\n",
    "    pol_score = sia.polarity_scores(line)\n",
    "    pol_score['headline'] = line\n",
    "    results.append(pol_score)\n",
    "\n",
    "print(results[:3])"
   ]
  },
  {
   "cell_type": "code",
   "execution_count": null,
   "metadata": {},
   "outputs": [],
   "source": [
    "sentimentos = pd.DataFrame.from_records(results)\n",
    "sentimentos.head()"
   ]
  },
  {
   "cell_type": "code",
   "execution_count": null,
   "metadata": {},
   "outputs": [],
   "source": [
    "sentimentos['label'] = 0\n",
    "sentimentos.loc[sentimentos['compound'] > 0.2, 'label'] = 1\n",
    "sentimentos.loc[sentimentos['compound'] < -0.2, 'label'] = -1\n",
    "sentimentos.head()"
   ]
  },
  {
   "cell_type": "code",
   "execution_count": null,
   "metadata": {},
   "outputs": [],
   "source": [
    "amazon.index = range(len(amazon))"
   ]
  },
  {
   "cell_type": "code",
   "execution_count": null,
   "metadata": {},
   "outputs": [],
   "source": [
    "accuracy_score(amazon.label, sentimentos.label)"
   ]
  },
  {
   "cell_type": "markdown",
   "metadata": {},
   "source": [
    "<h1 style='font-family:ubuntu; color:#1C1C1C; font-size:25px'>Probabilidade de cada classe</h1>"
   ]
  },
  {
   "cell_type": "code",
   "execution_count": null,
   "metadata": {},
   "outputs": [],
   "source": [
    "teste = 'i love the movie'\n",
    "testeStemming = []\n",
    "stemmer = nltk.stem.SnowballStemmer('english')\n",
    "\n",
    "for (palavras_treinamento) in teste.split():\n",
    "    comStem = [p for p in palavras_treinamento.split()]\n",
    "    testeStemming.append(str(stemmer.stem(comStem[0])))\n",
    "    \n",
    "novo = extrator_palavras(testeStemming)\n",
    "distribuicao = classificador.prob_classify(novo)\n",
    "\n",
    "for classe in distribuicao.samples():\n",
    "    print('%s: %f' % (classe, distribuicao.prob(classe)))\n",
    "    if classe == 0:\n",
    "        print('Probalidade de ser Negativa')\n",
    "    else:\n",
    "        print('Probalidade de ser Positiva')\n",
    "        "
   ]
  },
  {
   "cell_type": "markdown",
   "metadata": {},
   "source": [
    "<h1 style='font-family:ubuntu; color:#1C1C1C; font-size:25px'>Agora vamos realizar a análise de sentimentos da Yelp</h1>"
   ]
  },
  {
   "cell_type": "markdown",
   "metadata": {},
   "source": [
    "<img style=\"width: 500px]; heigth: 500px\" src=\"./imgs/yelp.png\"/>"
   ]
  },
  {
   "cell_type": "markdown",
   "metadata": {},
   "source": [
    "<h1 style='font-family:ubuntu; color:#1C1C1C; font-size:25px'>Utilizando TF-IDF</h1>"
   ]
  },
  {
   "cell_type": "markdown",
   "metadata": {},
   "source": [
    "<div style='padding:20px; border: 1px solid #E0FFFF; border-radius: 5px; background: #E0FFFF'>\n",
    "    <p style='font-family:Ubuntu Mono; color:#1C1C1C; font-size:18px'>\n",
    "No caso do TFIDF, o único pré-processamento de texto é remover a pontuação e diminuir as letras maiúsculas e minúsculas. Nós não temos que nos preocupar com as StopWords. O TFIDF é a junção do TF e IDF.\n",
    "    </p>\n",
    "</div>"
   ]
  },
  {
   "cell_type": "markdown",
   "metadata": {},
   "source": [
    "<div style='padding:20px; border: 1px solid #E0FFFF; border-radius: 5px; background: #E0FFFF'>\n",
    "<ul style='font-family:Ubuntu Mono; color:#1C1C1C; font-size:18px'>\n",
    "    <li>O TFIDF é usado com sucesso pelos mecanismos de pesquisa, como o Google, como um fator de classificação para o conteúdo.</li>\n",
    "    <li>A ideia é pesar os termos freqüentes e aumentar os mais raros</li>\n",
    "</ul>\n",
    "</div>"
   ]
  },
  {
   "cell_type": "markdown",
   "metadata": {},
   "source": [
    "<div style='padding:20px; border: 1px solid #FFDAB9; border-radius: 5px; background: #FFDAB9'>\n",
    "    <p style='font-family:Ubuntu Mono; color:#1C1C1C; font-size:18px'>\n",
    "Nossa acurácia para este modelo foi de 77,5% utilizando SGDClassifier.\n",
    "    </p>\n",
    "</div>    "
   ]
  },
  {
   "cell_type": "markdown",
   "metadata": {},
   "source": [
    "<h1 style='font-family:ubuntu; color:#1C1C1C; font-size:25px'>Matriz de Confusão</h1>"
   ]
  },
  {
   "cell_type": "markdown",
   "metadata": {},
   "source": [
    "<h1 style='font-family:ubuntu; color:#1C1C1C; font-size:25px'>Agora vamos analisar o Imdb</h1>"
   ]
  },
  {
   "cell_type": "markdown",
   "metadata": {},
   "source": [
    "<div style='padding:20px; border: 1px solid #FFFACD; border-radius: 5px; background: #FFFACD'>\n",
    "    <p style='font-family:Ubuntu Mono; color:#1C1C1C; font-size:18px'>\n",
    "        <strong>Obs:</strong> Nós poderíamos realizar uma única análise de sentimentos com o dataset consolidade que foi importado (concatenação) de todos os conjuntos, porém, o notebook ficará mais completo e didático se tratarmos de forma separada...<br><br> \n",
    "        Mãos a obra!\n",
    "    </p>\n",
    "</div> "
   ]
  },
  {
   "cell_type": "markdown",
   "metadata": {},
   "source": [
    "<img style=\"width=500px; height: 500px\" src=\"./imgs/imdb.png\"/>"
   ]
  },
  {
   "cell_type": "markdown",
   "metadata": {},
   "source": [
    "<h1 style='font-family:ubuntu; color:#1C1C1C; font-size:25px'>Separando os Dados</h1>"
   ]
  },
  {
   "cell_type": "markdown",
   "metadata": {},
   "source": [
    "<h1 style='font-family:ubuntu; color:#1C1C1C; font-size:25px'>Removendo StopWords</h1>"
   ]
  },
  {
   "cell_type": "markdown",
   "metadata": {},
   "source": [
    "<h1 style='font-family:ubuntu; color:#1C1C1C; font-size:25px'>Análise Morfológica\n",
    "</h1>"
   ]
  },
  {
   "cell_type": "markdown",
   "metadata": {},
   "source": [
    "<div style='padding:20px; border: 1px solid #E0FFFF; border-radius: 5px; background: #E0FFFF'>\n",
    "    <p style='font-family:Ubuntu Mono; color:#1C1C1C; font-size:18px'>\n",
    "Site que explica cada sigla: https://www.clips.uantwerpen.be/pages/pattern-en\n",
    "    </p>\n",
    "</div>"
   ]
  },
  {
   "cell_type": "markdown",
   "metadata": {},
   "source": [
    "<h1 style='font-family:ubuntu; color:#1C1C1C; font-size:25px'>Classificação e Ajuste de Hiperparâmetros\n",
    "</h1>"
   ]
  },
  {
   "cell_type": "markdown",
   "metadata": {},
   "source": [
    "<div style='padding:20px; border: 1px solid #FFFACD; border-radius: 5px; background: #FFFACD'>\n",
    "    <p style='font-family:Ubuntu Mono; color:#1C1C1C; font-size:18px'>\n",
    "        Como o melhor C encontrado pelo GridSearch foi o C = 1, não precisamos deixar explícito pois o default é este valor.\n",
    "    </p>\n",
    "</div> "
   ]
  },
  {
   "cell_type": "markdown",
   "metadata": {},
   "source": [
    "<h1 style='font-family:ubuntu; color:#1C1C1C; font-size:25px'>Terminamos nossa análise de sentimentos para os 3 Datasets</h1>"
   ]
  },
  {
   "cell_type": "markdown",
   "metadata": {},
   "source": [
    "<div style='padding:20px; border: 1px solid #E0FFFF; border-radius: 5px; background: #E0FFFF'>\n",
    "    <p style='font-family:Ubuntu Mono; color:#1C1C1C; font-size:18px'>\n",
    "Para fechar, vamos realizar a análise de sentimentos com um único Dataset, \n",
    "    sem diferenciar a fonte dos dados.\n",
    "    </p>\n",
    "</div>"
   ]
  },
  {
   "cell_type": "code",
   "execution_count": null,
   "metadata": {},
   "outputs": [],
   "source": []
  }
 ],
 "metadata": {
  "kernelspec": {
   "display_name": "Python 3",
   "language": "python",
   "name": "python3"
  },
  "language_info": {
   "codemirror_mode": {
    "name": "ipython",
    "version": 3
   },
   "file_extension": ".py",
   "mimetype": "text/x-python",
   "name": "python",
   "nbconvert_exporter": "python",
   "pygments_lexer": "ipython3",
   "version": "3.7.3"
  }
 },
 "nbformat": 4,
 "nbformat_minor": 2
}
